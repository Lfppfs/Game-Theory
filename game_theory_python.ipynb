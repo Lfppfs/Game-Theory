{
 "cells": [
  {
   "cell_type": "markdown",
   "metadata": {
    "toc": true
   },
   "source": [
    "<h1>Table of Contents<span class=\"tocSkip\"></span></h1>\n",
    "<div class=\"toc\"><ul class=\"toc-item\"><li><span><a href=\"#Introduction\" data-toc-modified-id=\"Introduction-1\"><span class=\"toc-item-num\">1&nbsp;&nbsp;</span>Introduction</a></span></li><li><span><a href=\"#Part-I:-a-simple-model\" data-toc-modified-id=\"Part-I:-a-simple-model-2\"><span class=\"toc-item-num\">2&nbsp;&nbsp;</span>Part I: a simple model</a></span></li><li><span><a href=\"#Part-II:-a-more-complex-model\" data-toc-modified-id=\"Part-II:-a-more-complex-model-3\"><span class=\"toc-item-num\">3&nbsp;&nbsp;</span>Part II: a more complex model</a></span><ul class=\"toc-item\"><li><span><a href=\"#Phase-space-and-time-series\" data-toc-modified-id=\"Phase-space-and-time-series-3.1\"><span class=\"toc-item-num\">3.1&nbsp;&nbsp;</span>Phase space and time series</a></span></li></ul></li></ul></div>"
   ]
  },
  {
   "cell_type": "markdown",
   "metadata": {},
   "source": [
    "# Introduction"
   ]
  },
  {
   "cell_type": "markdown",
   "metadata": {},
   "source": [
    "This script is a simple and (I hope!) practical tool for performing analytical and numerical analyses in some Game Theory scenarios. I'll be mostly concerned with Evolutionary Game Theory, the 'extension' of Game Theory into Evolutionary Biology, but the mathematical modelling is the same within an economical (or other) setting. If you're familiar with the topic, this brief Introduction will be no big news for you, but if you want to study it more in-depth you should probably start with the book by Martin Nowak (https://www.amazon.com/Evolutionary-Dynamics-Exploring-Equations-Life/dp/0674023382/ref=sr_1_1?keywords=evolutionary+dynamics&qid=1567351935&s=books&sr=1-1). I'll first develop the simplest model in Game Theory and afterwards move to a more complex and interesting one.\n",
    "\n",
    "Let's set up our model. Our players will be individuals of different phenotypes (from the same species!) and our strategies will be our phenotypes, with payoffs translated into fitness. Suppose, then, a game between individuals of phenotypes $C$ and $D$, with populational frequencies $x_{_{C}}$ and $x_{_{D}}$, respectively. Suppose also that payoffs are given by the following matrix:\n",
    "\n",
    "$$\n",
    "\\begin{array} \\\\\n",
    "\\quad \\;C \\!\\!\\! & D\n",
    "\\end{array} \\\\\n",
    "\\begin{array} \\\\\n",
    "C \\\\ D\n",
    "\\end{array}\n",
    "\\left(\\begin{array} \\\\\n",
    "\\begin{array} \\ R & S \\\\ T & P \\end{array}\\\\\n",
    "\\end {array} \\right)\n",
    "$$\n",
    "\n",
    "If you're acquainted with Game Theory, you'll recognize this matrix as a Prisoner's Dillema. If not, don't worry about the $R$, $S$, $T$ and $P$ letters, just think of them as parameters. Let's define our fitness functions for each strategy:\n",
    "\n",
    "$$\n",
    "\\begin{equation}\n",
    "    \\begin{array}{c}\n",
    "        f_{_{C}}(\\vec{x})=Rx_{_{C}}+Sx_{_{D}}\\\\\n",
    "        f_{_{D}}(\\vec{x})=Tx_{_{C}}+Px_{_{D}}\n",
    "    \\end{array},    \n",
    "\\end{equation}\n",
    "$$\n",
    "\n",
    "Here, $\\vec{x}$ is the population vector. The differential equations giving the change in strategy frequency over time will then be:\n",
    "\n",
    "$$\n",
    "\\begin{equation}\n",
    "    \\begin{array}{c}\n",
    "    \\dot{x}_{_{ C}}=x_{_{ C}}\\left[f_{_{ C}}(\\vec{x})-\\phi(\\vec{x})\\right]\\\\\n",
    "    \\dot{x}_{_{ D}}=x_{_{ D}}\\left[f_{_{ D}}(\\vec{x})-\\phi(\\vec{x})\\right]\n",
    "    \\end{array},\n",
    "\\end{equation}\n",
    "$$\n",
    "\n",
    "Here, the term $\\phi(\\vec{x})=x_{_{C}} f_{_{C}}(\\vec{x})+x_{_{D}} f_{_{D}}(\\vec{x})$ computes the mean fitness of the population.\n",
    "Since $x_{_{C}}$ and $x_{_{D}}$ are frequencies, we can take $x_{_{C}} + x_{_{D}} = 1$ and define $x_{_{C}} = x, x_{_{D}} = 1-x$, which then leads to the following replicator equation:\n",
    "\n",
    "$$\n",
    "\\begin{equation}\n",
    "    \\dot{x}=x(1-x)[f_{_{C}}(\\vec{x})-f_{_{D}}(\\vec{x})]\n",
    "\\end{equation}\n",
    "$$\n",
    "\n",
    "We can now analyse which strategy will be favored by natural selection given the matrix parameters."
   ]
  },
  {
   "cell_type": "markdown",
   "metadata": {},
   "source": [
    "# Part I: a simple model"
   ]
  },
  {
   "cell_type": "markdown",
   "metadata": {},
   "source": [
    "Let's start with our code. First, let's import the packages we'll need, which will be only some functions from Sympy (https://docs.sympy.org/latest/tutorial/index.html) and Numpy (we could use lists here but what the heck, why not use Numpy, eh?)"
   ]
  },
  {
   "cell_type": "code",
   "execution_count": 1,
   "metadata": {
    "ExecuteTime": {
     "end_time": "2020-02-28T17:59:27.362048Z",
     "start_time": "2020-02-28T17:59:23.129601Z"
    }
   },
   "outputs": [],
   "source": [
    "import getpass\n",
    "import numpy as np\n",
    "import matplotlib.pyplot as plt\n",
    "import matplotlib.gridspec as gridspec\n",
    "import os.path\n",
    "from os import chdir, getcwd, listdir, mkdir\n",
    "from scipy import integrate\n",
    "from sympy import diff, functions, init_printing, Matrix,\\\n",
    "    numbers, Poly, solve, symbols, sympify\n",
    "from sympy.solvers.inequalities import solve_poly_inequality\n",
    "\n",
    "init_printing(use_latex='mathjax')  # this is simply for aesthetics\n",
    "username = getpass.getuser()  # this will be useful for saving a plot as a figure"
   ]
  },
  {
   "cell_type": "code",
   "execution_count": 38,
   "metadata": {
    "ExecuteTime": {
     "end_time": "2020-02-28T18:52:04.500678Z",
     "start_time": "2020-02-28T18:52:04.376861Z"
    },
    "code_folding": []
   },
   "outputs": [],
   "source": [
    "class System():\n",
    "    '''\n",
    "    class System()\n",
    "        Base class for system objects, i.e., class for setting and analyzing a\n",
    "        differential equation system based on a Game Theory matrix.\n",
    "        The t variable may be set to a numerical value using t_value,\n",
    "        or analyzed analytically by specifying t = \\'set\\' and t_value = None.\n",
    "\n",
    "        Methods defined here:\n",
    "\n",
    "        solve(self, game = None, t = None)\n",
    "            Solves the system using sympy's solve function;\n",
    "            sets the Jacobian matrix for the system using\n",
    "            sympy's Matrix.jacobian; and evaluates the Jacobian at each\n",
    "            solution point.\n",
    "\n",
    "            Returns\n",
    "            -------\n",
    "            solutions: list containing the solutions of the system\n",
    "            jac: sympy.matrices.dense.MutableDenseMatrix,\n",
    "            Jacobian matrix of the system\n",
    "            jac_at_point: list containing the Jacobian matrix of the system\n",
    "            evaluated at each solution point\n",
    "\n",
    "        eigs(self, save = False)\n",
    "            Calculates the eigenvalues of the Jacobian matrix at each\n",
    "            solution point; since looking at the eigenvalues directly isn't\n",
    "            trictly necessary for determining the stability of the\n",
    "            equilibrium points, this is a separate method from solve().\n",
    "\n",
    "            Returns\n",
    "            -------\n",
    "            eigenvals: eigenvalues of the system, appended to jac_at_point.\n",
    "\n",
    "    '''\n",
    "\n",
    "    def __init__(self, variables, game='PD', t=None, t_value=None):\n",
    "\n",
    "        self.variables = list(map(symbols, variables))\n",
    "        self.t = symbols('t')\n",
    "\n",
    "#         these if-else statements allow changing the game\n",
    "        if game == 'PD':\n",
    "            self.matrix = np.array([[3, 0], [5, 1]], dtype=float)\n",
    "        elif game == 'HD':\n",
    "            self.matrix = np.array([[3, 1], [4, 0]], dtype=float)\n",
    "        else:\n",
    "            self.matrix = np.array(game, dtype=float)\n",
    "\n",
    "#         fitness functions\n",
    "        self.fit_c = self.variables[0] * self.matrix[0, 0] +\\\n",
    "            (1 - self.variables[0]) * self.matrix[0, 1]\n",
    "\n",
    "        self.fit_d = self.variables[0] * self.matrix[1, 0] +\\\n",
    "            (1 - self.variables[0]) * self.matrix[1, 1]\n",
    "\n",
    "#         these lines allow working with a free parameter in the\n",
    "#         entry [1,0] of the matrix\n",
    "        if t == 'set':\n",
    "            self.fit_d = (self.variables[0]) * self.t.subs(self.t, t_value) +\\\n",
    "                (1 - self.variables[0]) * self.matrix[1, 1]\n",
    "        elif t != 'set' and t != None:\n",
    "            raise ValueError('t must be either \\'set\\' or NoneType')\n",
    "\n",
    "#         replicator equation\n",
    "        self.replicator = self.variables[0] * \\\n",
    "            (1 - self.variables[0]) * (self.fit_c - self.fit_d)\n",
    "\n",
    "    def __call__(self, coop_frequency, def_frequency):\n",
    "        return self.replicator.subs([(self.variables[0], coop_frequency),\n",
    "                                     (self.variables[1], def_frequency)])\n",
    "\n",
    "    def solve(self, save=False, directory=None, filename=None):\n",
    "        '''\n",
    "        solve(self, game = None, t = None)\n",
    "            Solves the system using sympy's solve function;\n",
    "            sets the Jacobian matrix for the system using\n",
    "            sympy's Matrix.jacobian; and evaluates the Jacobian at each\n",
    "            solution point.\n",
    "\n",
    "            Returns\n",
    "            -------\n",
    "            solutions: list containing the solutions of the system\n",
    "            jac: sympy.matrices.dense.MutableDenseMatrix,\n",
    "            Jacobian matrix of the system\n",
    "            jac_at_point: list containing the Jacobian matrix of the system\n",
    "            evaluated at each solution point\n",
    "        '''\n",
    "\n",
    "        self.solutions = solve(self.replicator, self.variables, dict=True)\n",
    "\n",
    "        self.functions = Matrix([self.replicator])\n",
    "        self.variables = Matrix([self.variables])\n",
    "        self.jac = Matrix.jacobian(self.functions, self.variables)\n",
    "\n",
    "#         evaluating the jacobian at every solution point and appending\n",
    "#         these to jac_at_point\n",
    "        self.jac_at_point = []\n",
    "        for i in self.solutions:\n",
    "            self.jac_at_point.append(self.jac.subs(\n",
    "                [(list(i.items())[0][0], list(i.items())[0][1])]))\n",
    "        return\n",
    "\n",
    "    def eigs(self, save=False, directory=None, filename=None):\n",
    "        '''\n",
    "        eigs(self, save = False)\n",
    "            Calculates the eigenvalues of the Jacobian matrix at each\n",
    "            solution point; since looking at the eigenvalues directly isn't\n",
    "            trictly necessary for determining the stability of the\n",
    "            equilibrium points, this is a separate method from solve().\n",
    "\n",
    "            Returns\n",
    "            -------\n",
    "            eigenvals: eigenvalues of the system, appended to jac_at_point.\n",
    "        '''\n",
    "\n",
    "#         calculating the eigenvalues of each solution and appending\n",
    "#         these to eigenvals\n",
    "        self.eigenvals = []\n",
    "        for i in self.jac_at_point:\n",
    "            self.eigenvals.append(i.eigenvals())\n",
    "        return\n",
    "\n",
    "#         saving the eigenvalues to a txt file\n",
    "        if save:\n",
    "            with open(directory + filename + '.txt', '+w') as f:\n",
    "                f.write('\\n\\neigenvalues:\\n\\n')\n",
    "                for index, e in enumerate(self.eigenvals):\n",
    "                    f.write('{}) {}\\n\\n'.format(index, e))"
   ]
  },
  {
   "cell_type": "markdown",
   "metadata": {},
   "source": [
    "The class above has the following PD matrix as default argument for the matrix configuration:\n",
    "\n",
    "$$\n",
    "\\begin{array} \\\\\n",
    "\\quad \\;C \\!\\!\\! & D\n",
    "\\end{array} \\\\\n",
    "\\begin{array} \\\\\n",
    "C \\\\ D\n",
    "\\end{array}\n",
    "\\left(\\begin{array} \\\\\n",
    "\\begin{array} \\ 3 & 0 \\\\ 5 & 1 \\end{array}\\\\\n",
    "\\end {array} \\right)\n",
    "$$\n",
    "\n",
    "It also accepts an 'HD' argument, for a Hawk-Dove game, or a pre-defined array with whatever values the user wants for a 2 x 2 matrix configuration. But let's continue our demonstration here by setting a new instance of the System class called 'PD_game':"
   ]
  },
  {
   "cell_type": "code",
   "execution_count": 17,
   "metadata": {
    "ExecuteTime": {
     "end_time": "2020-02-16T17:24:41.941580Z",
     "start_time": "2020-02-16T17:24:41.932969Z"
    }
   },
   "outputs": [],
   "source": [
    "PD_game = System(['x'])"
   ]
  },
  {
   "cell_type": "markdown",
   "metadata": {},
   "source": [
    "Note that, although in the default mathematical setting of a 2 x 2 PD game such as the one I explained above, one would setup the system with a variable for cooperators, $x_{_{C}}$ and another for defectors $x_{_{D}}$, here I am instancing the class using only one variable, $x$. This is so that the call, solve and eigs methods from System can be inherited by other classes (as we'll see in part II).\n",
    "\n",
    "I created the System class trying to make it as manageable and comprehensive as possible for anyone wanting to play around with the model. And so, we can check our game matrix as an attribute of PD_Game:"
   ]
  },
  {
   "cell_type": "code",
   "execution_count": 18,
   "metadata": {
    "ExecuteTime": {
     "end_time": "2020-02-16T17:23:06.030648Z",
     "start_time": "2020-02-16T17:23:06.025008Z"
    }
   },
   "outputs": [
    {
     "data": {
      "text/plain": [
       "array([[3., 0.],\n",
       "       [5., 1.]])"
      ]
     },
     "execution_count": 18,
     "metadata": {},
     "output_type": "execute_result"
    }
   ],
   "source": [
    "PD_game.matrix"
   ]
  },
  {
   "cell_type": "markdown",
   "metadata": {},
   "source": [
    "We can do that for our fitness function as well:"
   ]
  },
  {
   "cell_type": "code",
   "execution_count": 19,
   "metadata": {
    "ExecuteTime": {
     "end_time": "2020-02-16T17:23:07.000578Z",
     "start_time": "2020-02-16T17:23:06.966158Z"
    }
   },
   "outputs": [
    {
     "data": {
      "text/latex": [
       "$\\displaystyle \\left( 3.0 x, \\  4.0 x + 1.0\\right)$"
      ],
      "text/plain": [
       "(3.0⋅x, 4.0⋅x + 1.0)"
      ]
     },
     "execution_count": 19,
     "metadata": {},
     "output_type": "execute_result"
    }
   ],
   "source": [
    "PD_game.fit_c, PD_game.fit_d"
   ]
  },
  {
   "cell_type": "markdown",
   "metadata": {},
   "source": [
    "And also our replicator equation:"
   ]
  },
  {
   "cell_type": "code",
   "execution_count": 20,
   "metadata": {
    "ExecuteTime": {
     "end_time": "2020-02-16T17:23:08.255761Z",
     "start_time": "2020-02-16T17:23:08.217618Z"
    }
   },
   "outputs": [
    {
     "data": {
      "text/latex": [
       "$\\displaystyle x \\left(1 - x\\right) \\left(- 1.0 x - 1.0\\right)$"
      ],
      "text/plain": [
       "x⋅(1 - x)⋅(-1.0⋅x - 1.0)"
      ]
     },
     "execution_count": 20,
     "metadata": {},
     "output_type": "execute_result"
    }
   ],
   "source": [
    "PD_game.replicator"
   ]
  },
  {
   "cell_type": "markdown",
   "metadata": {},
   "source": [
    "We can see from the replicator equation that we have the two trivial solutions, $x = 1$ and $x = 0$, and we also have $x = -1$ (which clearly has only mathematical meaning in our setting, not a biological one, since we cannot have negative frequencies). These are all listed in the solutions object that is created when the solve method is called:"
   ]
  },
  {
   "cell_type": "code",
   "execution_count": 21,
   "metadata": {
    "ExecuteTime": {
     "end_time": "2020-02-16T17:24:54.278786Z",
     "start_time": "2020-02-16T17:24:54.198930Z"
    }
   },
   "outputs": [
    {
     "data": {
      "text/latex": [
       "$\\displaystyle \\left[ \\left\\{ x : -1.0\\right\\}, \\  \\left\\{ x : 0.0\\right\\}, \\  \\left\\{ x : 1.0\\right\\}\\right]$"
      ],
      "text/plain": [
       "[{x: -1.0}, {x: 0.0}, {x: 1.0}]"
      ]
     },
     "execution_count": 21,
     "metadata": {},
     "output_type": "execute_result"
    }
   ],
   "source": [
    "PD_game.solve()\n",
    "PD_game.solutions"
   ]
  },
  {
   "cell_type": "markdown",
   "metadata": {},
   "source": [
    "The Jacobian matrix of the system and the Jacobian evaluated at each solution point are:"
   ]
  },
  {
   "cell_type": "code",
   "execution_count": 22,
   "metadata": {
    "ExecuteTime": {
     "end_time": "2020-02-16T17:23:17.623094Z",
     "start_time": "2020-02-16T17:23:17.582829Z"
    }
   },
   "outputs": [
    {
     "data": {
      "text/latex": [
       "$\\displaystyle \\left( \\left[\\begin{matrix}- 1.0 x \\left(1 - x\\right) - x \\left(- 1.0 x - 1.0\\right) + \\left(1 - x\\right) \\left(- 1.0 x - 1.0\\right)\\end{matrix}\\right], \\  \\left[ \\left[\\begin{matrix}2.0\\end{matrix}\\right], \\  \\left[\\begin{matrix}-1.0\\end{matrix}\\right], \\  \\left[\\begin{matrix}2.0\\end{matrix}\\right]\\right]\\right)$"
      ],
      "text/plain": [
       "([-1.0⋅x⋅(1 - x) - x⋅(-1.0⋅x - 1.0) + (1 - x)⋅(-1.0⋅x - 1.0)], [[2.0], [-1.0],\n",
       " [2.0]])"
      ]
     },
     "execution_count": 22,
     "metadata": {},
     "output_type": "execute_result"
    }
   ],
   "source": [
    "PD_game.jac, PD_game.jac_at_point"
   ]
  },
  {
   "cell_type": "markdown",
   "metadata": {},
   "source": [
    "The eigs method calculates the eigenvalues of the system:"
   ]
  },
  {
   "cell_type": "code",
   "execution_count": 23,
   "metadata": {
    "ExecuteTime": {
     "end_time": "2020-02-16T17:35:24.828933Z",
     "start_time": "2020-02-16T17:35:24.755367Z"
    }
   },
   "outputs": [
    {
     "data": {
      "text/latex": [
       "$\\displaystyle \\left[ \\left\\{ 2 : 1\\right\\}, \\  \\left\\{ -1 : 1\\right\\}, \\  \\left\\{ 2 : 1\\right\\}\\right]$"
      ],
      "text/plain": [
       "[{2: 1}, {-1: 1}, {2: 1}]"
      ]
     },
     "execution_count": 23,
     "metadata": {},
     "output_type": "execute_result"
    }
   ],
   "source": [
    "PD_game.eigs()\n",
    "PD_game.eigenvals"
   ]
  },
  {
   "cell_type": "markdown",
   "metadata": {},
   "source": [
    "Only the second eigenvalue is negative, therefore its respective equilibrium point ($x = 0$) is the only stable one."
   ]
  },
  {
   "cell_type": "markdown",
   "metadata": {},
   "source": [
    "When calling the solve and eigs method, the user can specify a directory and file name for saving the solutions, jac, jac_at_point or eigenvalues objects into a text file by setting the 'save' argument to True,\n",
    "e. g., PD_game.solve(save=True, directory='/home/user/Desktop/', filename='my_game')"
   ]
  },
  {
   "cell_type": "markdown",
   "metadata": {},
   "source": [
    "I also included an argument t that can turn the [1,0] position of the matrix into free parameter, like so:"
   ]
  },
  {
   "cell_type": "code",
   "execution_count": 24,
   "metadata": {},
   "outputs": [],
   "source": [
    "PD_game = System(variables=['x'], t='set')"
   ]
  },
  {
   "cell_type": "markdown",
   "metadata": {},
   "source": [
    "The solutions and eigenvalues of the system are now:"
   ]
  },
  {
   "cell_type": "code",
   "execution_count": 25,
   "metadata": {
    "ExecuteTime": {
     "end_time": "2020-02-16T17:22:48.490365Z",
     "start_time": "2020-02-16T17:22:48.283867Z"
    }
   },
   "outputs": [
    {
     "data": {
      "text/latex": [
       "$\\displaystyle \\left( \\left[ \\left\\{ x : 0.0\\right\\}, \\  \\left\\{ x : 1.0\\right\\}, \\  \\left\\{ x : - \\frac{1}{t - 4.0}\\right\\}\\right], \\  \\left[ \\left\\{ -1 : 1\\right\\}, \\  \\left\\{ t - 3 : 1\\right\\}, \\  \\left\\{ - \\frac{\\left(1 + \\frac{1}{t - 4}\\right) \\left(4 - t\\right)}{t - 4} + \\left(1 + \\frac{1}{t - 4}\\right) \\left(\\frac{t}{t - 4} - 1 - \\frac{4}{t - 4}\\right) + \\frac{\\frac{t}{t - 4} - 1 - \\frac{4}{t - 4}}{t - 4} : 1\\right\\}\\right]\\right)$"
      ],
      "text/plain": [
       "⎛                                    ⎡                     ⎧  ⎛      1  ⎞     \n",
       "⎜                                    ⎢                     ⎪  ⎜1 + ─────⎟⋅(4 -\n",
       "⎜⎡                    ⎧     -1   ⎫⎤  ⎢                     ⎨  ⎝    t - 4⎠     \n",
       "⎜⎢{x: 0.0}, {x: 1.0}, ⎨x: ───────⎬⎥, ⎢{-1: 1}, {t - 3: 1}, ⎪- ────────────────\n",
       "⎝⎣                    ⎩   t - 4.0⎭⎦  ⎣                     ⎩         t - 4    \n",
       "\n",
       "                                          t           4     ⎫⎤⎞\n",
       " t)                                     ───── - 1 - ─────   ⎪⎥⎟\n",
       "      ⎛      1  ⎞ ⎛  t           4  ⎞   t - 4       t - 4   ⎬⎥⎟\n",
       "─── + ⎜1 + ─────⎟⋅⎜───── - 1 - ─────⎟ + ─────────────────: 1⎪⎥⎟\n",
       "      ⎝    t - 4⎠ ⎝t - 4       t - 4⎠         t - 4         ⎭⎦⎠"
      ]
     },
     "execution_count": 25,
     "metadata": {},
     "output_type": "execute_result"
    }
   ],
   "source": [
    "PD_game.solve()\n",
    "PD_game.eigs()\n",
    "PD_game.solutions, PD_game.eigenvals"
   ]
  },
  {
   "cell_type": "markdown",
   "metadata": {},
   "source": [
    "The user can then check the value of $t$ such that a given point is stable. The equilibrium point $c=1$, for example, is stable if and only if $t<3$."
   ]
  },
  {
   "cell_type": "markdown",
   "metadata": {},
   "source": [
    "# Part II: a more complex model"
   ]
  },
  {
   "cell_type": "markdown",
   "metadata": {},
   "source": [
    "Let's now turn to another, more interesting model, one by Weitz and colleagues, published in 2016 in the journal Proceedings of the National Academy of Sciences. The full paper can be found here: https://www.pnas.org/content/113/47/E7518.short. In this work, the authors analyze a scenario where a population interacts with limited resources in an environment. Cooperators \"enhance\" the environment, that is, they make the amount of resources available increase, while defectors degrade the environment, depleting the resources. The idea is that this model, which the authors call \"feedback-evolving\", allows understanding how the time evolution of available resources will influence the strategy frequencies in the population and vice-versa.\n",
    "\n",
    "Ok, so let's get on with the model. It is composed of two replicator equations:\n",
    "\n",
    "$$\n",
    "\\begin{equation}\n",
    "    \\begin{array}\n",
    "        \\epsilon\\dot{x}=x(1-x)[f_{_{C}}(x)-f_{_{D}}(x)]\\\\\n",
    "        \\dot{n}=n(1-n)g(x)\n",
    "    \\end{array}    \n",
    "\\end{equation}\n",
    "$$\n",
    "\n",
    "Let's start with the second differential equation, which gives the change in the frequency of resources available, $n$. The term $g(x)$ is given by:\n",
    "\n",
    "$$\n",
    "\\begin{equation}\n",
    "        g(x)=\\theta x-(1-x)\n",
    "\\end{equation},\n",
    "$$\n",
    "\n",
    "in which $\\theta >0$ is the ratio between the enhancement and degradation of the environment provided by cooperators and defectors, respectively. Thus, $\\theta > 1$ signifies that cooperators enhance the environment more than defectors degrade it.\n",
    "\n",
    "The first differential equation in the system is the replicator equation from the previous model, but with a catch. Fitnesses are now defined based on another configuration of the payoff matrix:\n",
    "\n",
    "$$\n",
    "A(n)=(1-n)\\left(\\begin{array} \\\\\n",
    "\\begin{array} \\ R & S \\\\ T & P \\end{array}\\\\\n",
    "\\end {array} \\right) + n \\left(\\begin{array} \\\\\n",
    "\\begin{array} \\ R & S \\\\ T & P \\end{array}\\\\\n",
    "\\end {array} \\right)\n",
    "$$\n",
    "\n",
    "The idea here is that full cooperation is an ESS (a stable equilibrium point, if you're not familiar with the Evolutionarily Stable Strategy concept) when n = 0 and full defection is an ESS when n = 1. More clearly, what we find is that, as the authors state: \"Cooperation or defection is favored in the limits of $n \\rightarrow 0$ or $n \\rightarrow 1$, respectively\". The fitnesses are then calculated by multiplying the matrix entries by $n$ and then by the corresponding cooperator or defector frequencies, as shown in the first model.\n",
    "\n",
    "Now, let's begin our code. We'll use matplotlib for plotting and the integrate package from Scipy for numerically integrating the model."
   ]
  },
  {
   "cell_type": "code",
   "execution_count": 3,
   "metadata": {
    "ExecuteTime": {
     "end_time": "2020-02-28T18:35:11.989379Z",
     "start_time": "2020-02-28T18:35:11.957301Z"
    }
   },
   "outputs": [],
   "source": [
    "class FES(System):\n",
    "\n",
    "    def __init__(self, variables, game='PD', theta_value=None):\n",
    "        self.variables = list(map(symbols, variables))\n",
    "        self.theta = symbols('theta')\n",
    "\n",
    "        #         these if-else statements allow changing the game\n",
    "        if game == 'PD':\n",
    "            self.matrix = np.array([[3, 0], [5, 1]], dtype=float)\n",
    "        elif game == 'HD':\n",
    "            self.matrix = np.array([[3, 1], [4, 0]], dtype=float)\n",
    "        else:\n",
    "            self.matrix = np.array(game, dtype=float)\n",
    "\n",
    "#         fitness functions\n",
    "        self.fit_c =\\\n",
    "            self.variables[0] *\\\n",
    "            (self.matrix[1, 0] - (self.matrix[1, 0] -\n",
    "                                  self.matrix[0, 0]) * self.variables[1]) +\\\n",
    "            (1 - self.variables[0]) *\\\n",
    "            (self.matrix[1, 1] - (self.matrix[1, 1] -\n",
    "                                  self.matrix[0, 1]) * self.variables[1])\n",
    "\n",
    "        self.fit_d =\\\n",
    "            self.variables[0] *\\\n",
    "            (self.matrix[0, 0] + (self.matrix[1, 0] -\n",
    "                                  self.matrix[0, 0]) * self.variables[1]) +\\\n",
    "            (1 - self.variables[0]) *\\\n",
    "            (self.matrix[0, 1] + (self.matrix[1, 1] -\n",
    "                                  self.matrix[0, 1]) * self.variables[1])\n",
    "\n",
    "#         resource availability function\n",
    "        self.env = self.theta.subs(\n",
    "            self.theta, theta_value) * self.variables[0] -\\\n",
    "            (1 - self.variables[0])\n",
    "\n",
    "#         replicator equations\n",
    "        self.x_rep = self.variables[0] * \\\n",
    "            (1 - self.variables[0]) * (self.fit_c - self.fit_d)\n",
    "        self.n_rep = self.variables[1] * (1 - self.variables[1]) * self.env\n",
    "\n",
    "        self.replicator = [self.x_rep, self.n_rep]\n",
    "\n",
    "    def __call__(self, coop_frequency, def_frequency):\n",
    "        return System.__call__(self, coop_frequency, def_frequency)\n",
    "\n",
    "    def solve(self, save=False, directory=None, filename=None):\n",
    "        return System.solve(self, save=False, directory=None, filename=None)\n",
    "\n",
    "    def eigs(self, save=False, directory=None, filename=None):\n",
    "        return System.eigs(self, save=False, directory=None, filename=None)"
   ]
  },
  {
   "cell_type": "markdown",
   "metadata": {},
   "source": [
    "Let's now instance our class FES (which stands for Feedback-Evolving System) with variables $x$ and $n$:"
   ]
  },
  {
   "cell_type": "code",
   "execution_count": 4,
   "metadata": {
    "ExecuteTime": {
     "end_time": "2020-02-28T18:35:13.625760Z",
     "start_time": "2020-02-28T18:35:13.619481Z"
    }
   },
   "outputs": [],
   "source": [
    "game = FES(['x', 'n'])"
   ]
  },
  {
   "cell_type": "markdown",
   "metadata": {},
   "source": [
    "FES inherits the call, solve and eigs method from System. Let's call them and take a look at the solutions of the model."
   ]
  },
  {
   "cell_type": "code",
   "execution_count": 5,
   "metadata": {
    "ExecuteTime": {
     "end_time": "2020-02-28T18:35:15.722029Z",
     "start_time": "2020-02-28T18:35:15.412618Z"
    }
   },
   "outputs": [
    {
     "data": {
      "text/latex": [
       "$\\displaystyle \\left[ \\left\\{ n : 0.0, \\  x : -1.0\\right\\}, \\  \\left\\{ n : 0.0, \\  x : 0.0\\right\\}, \\  \\left\\{ n : 0.0, \\  x : 1.0\\right\\}, \\  \\left\\{ n : 0.5, \\  x : \\frac{1}{\\theta + 1.0}\\right\\}, \\  \\left\\{ n : 1.0, \\  x : -1.0\\right\\}, \\  \\left\\{ n : 1.0, \\  x : 0.0\\right\\}, \\  \\left\\{ n : 1.0, \\  x : 1.0\\right\\}\\right]$"
      ],
      "text/plain": [
       "⎡                                                       ⎧              1   ⎫  \n",
       "⎢{n: 0.0, x: -1.0}, {n: 0.0, x: 0.0}, {n: 0.0, x: 1.0}, ⎨n: 0.5, x: ───────⎬, \n",
       "⎣                                                       ⎩           θ + 1.0⎭  \n",
       "\n",
       "                                                     ⎤\n",
       "{n: 1.0, x: -1.0}, {n: 1.0, x: 0.0}, {n: 1.0, x: 1.0}⎥\n",
       "                                                     ⎦"
      ]
     },
     "execution_count": 5,
     "metadata": {},
     "output_type": "execute_result"
    }
   ],
   "source": [
    "game.solve(), game.eigs()\n",
    "game.solutions"
   ]
  },
  {
   "cell_type": "markdown",
   "metadata": {},
   "source": [
    "We have 5 biologically possible equilibrium points for this model, namely all of the above ones except for the first and fifth ones. Let's see if the seventh one, $n=1;x=1$ (full cooperation in a environment of abundant resources) is stable:"
   ]
  },
  {
   "cell_type": "code",
   "execution_count": 6,
   "metadata": {},
   "outputs": [
    {
     "data": {
      "text/latex": [
       "$\\displaystyle \\left\\{ 4 n - 2 : 1, \\  - n \\theta + \\theta \\left(1 - n\\right) : 1\\right\\}$"
      ],
      "text/plain": [
       "{4⋅n - 2: 1, -n⋅θ + θ⋅(1 - n): 1}"
      ]
     },
     "execution_count": 6,
     "metadata": {},
     "output_type": "execute_result"
    }
   ],
   "source": [
    "game.eigenvals[6]"
   ]
  },
  {
   "cell_type": "markdown",
   "metadata": {},
   "source": [
    "Clearly, the first eigenvalue is stable when $n < \\frac{1}{2}$. The second one depends on $\\theta$, and we can use solve_poly_inequality from sympy in order to make our lives easier and calculate at what values of $n$, for a given value of $\\theta$, the eigenvalue will be stable. Let's first use the subs method from sympy in order to make $\\theta=1.5$ (i.e., cooperators enhance the environment more than defectors degrade it) in the eigenvalue:"
   ]
  },
  {
   "cell_type": "code",
   "execution_count": 7,
   "metadata": {},
   "outputs": [
    {
     "data": {
      "text/latex": [
       "$\\displaystyle \\left[ \\left(\\frac{1}{2}, \\infty\\right)\\right]$"
      ],
      "text/plain": [
       "[(1/2, ∞)]"
      ]
     },
     "execution_count": 7,
     "metadata": {},
     "output_type": "execute_result"
    }
   ],
   "source": [
    "inequality = list(game.eigenvals[6].items())[1][0].subs([(game.theta, 1)])\n",
    "solve_poly_inequality(Poly(inequality, game.variables[1], domain='R'), '<')"
   ]
  },
  {
   "cell_type": "markdown",
   "metadata": {},
   "source": [
    "The eigenvalue will thus only be negative, for $\\theta=1.5$, when $n > \\frac{1}{2}$. The first and second eigenvalues for this equilibrium point cannot be both negative, and thus this point will never be stable.\n",
    "\n",
    "We could do the same analytic analysis for all equilibrium points, but we can also solve the system numerically and gain more insight into the system behavior by graphing it, which we'll do below. It is also important to know how to do this since most differential equations do not have analytic solutions."
   ]
  },
  {
   "cell_type": "markdown",
   "metadata": {},
   "source": [
    "## Phase space and time series"
   ]
  },
  {
   "cell_type": "markdown",
   "metadata": {},
   "source": [
    "The function below calculates the data for plotting two graphs: a phase space (with a phase space trajectory for a chosen initial point of the system) and a scatter plot of $(x,n) \\times t$."
   ]
  },
  {
   "cell_type": "code",
   "execution_count": 18,
   "metadata": {
    "ExecuteTime": {
     "end_time": "2020-02-05T23:42:23.285028Z",
     "start_time": "2020-02-05T23:42:23.267429Z"
    }
   },
   "outputs": [],
   "source": [
    "def graph_data(model, frequencies, theta_val, t_points):\n",
    "    '''\n",
    "        graph_data(frequencies,theta_val,t_points)\n",
    "\n",
    "            Calculates data for plotting a phase space a (with a phase space\n",
    "            trajectory for a chosen initial point of the system) and a scatter\n",
    "            plot of $(c,n) \\times t$. Calls integrate.solve_ivp from the Scipy\n",
    "            package and several functions from Numpy.\n",
    "\n",
    "            Parameters\n",
    "            ----------\n",
    "            frequencies : list, initial frequencies of c and n\n",
    "\n",
    "            theta_val : num, value of theta in the differential equation\n",
    "\n",
    "            t_points : list, time points for which the function should\n",
    "            be evaluated\n",
    "\n",
    "            Returns\n",
    "            -------\n",
    "            integ_sol : bunch object with several fields, see the\n",
    "            documentation for integrate.solve_ivp for more info\n",
    "            c_grid, n_grid : numpy.ndarray, grids with arrow locations for\n",
    "            a quiver plot\n",
    "            c_dir, n_dir : numpy.ndarray, grids with arrow directions for\n",
    "            a quiver plot\n",
    "    '''\n",
    "\n",
    "#     this function is a callable needed by integrate.solve_ivp(below)\n",
    "    def derivs(t, freqs):\n",
    "        return np.array([float(model.x_rep.subs([\n",
    "            (model.variables[0], freqs[0]),\n",
    "            (model.variables[1], freqs[1])])),\n",
    "            float(model.n_rep.subs([\n",
    "                (model.variables[0], freqs[0]),\n",
    "                (model.variables[1], freqs[1]),\n",
    "                (model.theta, theta_val)]))])\n",
    "\n",
    "#     line below will solve the system numerically. See the documentation for\n",
    "#     integrate.solve_ivp for more info\n",
    "    integ_sol = integrate.solve_ivp(\n",
    "        derivs, [0, 1000], [frequencies[0], frequencies[1]], t_eval=t_points)\n",
    "\n",
    "#     grids below will be used to plot the phase space\n",
    "#     See the examples of quiverplots at the Matplotlib tutorial for further\n",
    "#     information at:\n",
    "#     https://matplotlib.org/gallery/images_contours_and_fields/quiver_demo.html\n",
    "\n",
    "#     grid for arrow locations\n",
    "    n_grid,  x_grid = np.meshgrid(np.arange(0, 1.1, 0.1),\n",
    "                                  np.arange(0, 1.1, 0.1))\n",
    "    x_dir, n_dir, = x_grid.copy(), n_grid.copy()\n",
    "#     grid for arrow directions\n",
    "    for width in range(len(x_dir)):\n",
    "        for length in range(len(n_dir)):\n",
    "            x_dir[width, length], n_dir[width, length] =\\\n",
    "                model.x_rep.subs([\n",
    "                    (model.variables[0], x_grid[width, length]),\n",
    "                    (model.variables[1], n_grid[width, length])]),\\\n",
    "                model.n_rep.subs([\n",
    "                    (model.variables[0], x_grid[width, length]),\n",
    "                    (model.variables[1], n_grid[width, length]),\n",
    "                    (model.theta, theta_val)])\n",
    "\n",
    "    return integ_sol, x_grid, n_grid, x_dir, n_dir"
   ]
  },
  {
   "cell_type": "markdown",
   "metadata": {},
   "source": [
    "Let's solve the system for $x_{0} = 0.6$ and $n_{0} = 0.2$, with $\\theta=1.5$, and 1000 time steps of 0.1 interval."
   ]
  },
  {
   "cell_type": "code",
   "execution_count": 35,
   "metadata": {
    "ExecuteTime": {
     "end_time": "2020-02-06T00:07:47.204666Z",
     "start_time": "2020-02-06T00:06:53.839827Z"
    }
   },
   "outputs": [],
   "source": [
    "solution = graph_data(game, [0.6, 0.2], 0.5, np.linspace(0, 200, 1000))"
   ]
  },
  {
   "cell_type": "markdown",
   "metadata": {},
   "source": [
    "The object solution will be a tuple with the output of integrate.solve_ivp as its first entry. The ouput is pretty long, so here I show only its attribute \"success\" as an example. It outputs True if the integration was successfull and False otherwise:"
   ]
  },
  {
   "cell_type": "code",
   "execution_count": 20,
   "metadata": {
    "ExecuteTime": {
     "end_time": "2020-02-02T17:57:02.290741Z",
     "start_time": "2020-02-02T17:57:02.284814Z"
    }
   },
   "outputs": [
    {
     "data": {
      "text/plain": [
       "True"
      ]
     },
     "execution_count": 20,
     "metadata": {},
     "output_type": "execute_result"
    }
   ],
   "source": [
    "solution[0].success"
   ]
  },
  {
   "cell_type": "markdown",
   "metadata": {},
   "source": [
    "The other entries in the solution tuple are numpy arrays used to plot the phase space. Here I show the x_grid and x_dir only for illustration purposes:"
   ]
  },
  {
   "cell_type": "code",
   "execution_count": 21,
   "metadata": {
    "ExecuteTime": {
     "end_time": "2020-02-02T18:09:49.647688Z",
     "start_time": "2020-02-02T18:09:49.627461Z"
    },
    "collapsed": true,
    "jupyter": {
     "outputs_hidden": true
    }
   },
   "outputs": [
    {
     "data": {
      "text/plain": [
       "(array([[0. , 0. , 0. , 0. , 0. , 0. , 0. , 0. , 0. , 0. , 0. ],\n",
       "        [0.1, 0.1, 0.1, 0.1, 0.1, 0.1, 0.1, 0.1, 0.1, 0.1, 0.1],\n",
       "        [0.2, 0.2, 0.2, 0.2, 0.2, 0.2, 0.2, 0.2, 0.2, 0.2, 0.2],\n",
       "        [0.3, 0.3, 0.3, 0.3, 0.3, 0.3, 0.3, 0.3, 0.3, 0.3, 0.3],\n",
       "        [0.4, 0.4, 0.4, 0.4, 0.4, 0.4, 0.4, 0.4, 0.4, 0.4, 0.4],\n",
       "        [0.5, 0.5, 0.5, 0.5, 0.5, 0.5, 0.5, 0.5, 0.5, 0.5, 0.5],\n",
       "        [0.6, 0.6, 0.6, 0.6, 0.6, 0.6, 0.6, 0.6, 0.6, 0.6, 0.6],\n",
       "        [0.7, 0.7, 0.7, 0.7, 0.7, 0.7, 0.7, 0.7, 0.7, 0.7, 0.7],\n",
       "        [0.8, 0.8, 0.8, 0.8, 0.8, 0.8, 0.8, 0.8, 0.8, 0.8, 0.8],\n",
       "        [0.9, 0.9, 0.9, 0.9, 0.9, 0.9, 0.9, 0.9, 0.9, 0.9, 0.9],\n",
       "        [1. , 1. , 1. , 1. , 1. , 1. , 1. , 1. , 1. , 1. , 1. ]]),\n",
       " array([[ 0.00000000e+00,  0.00000000e+00,  0.00000000e+00,\n",
       "          0.00000000e+00,  0.00000000e+00,  0.00000000e+00,\n",
       "          0.00000000e+00,  0.00000000e+00,  0.00000000e+00,\n",
       "          0.00000000e+00,  0.00000000e+00],\n",
       "        [ 9.90000000e-02,  7.92000000e-02,  5.94000000e-02,\n",
       "          3.96000000e-02,  1.98000000e-02, -1.38777878e-17,\n",
       "         -1.98000000e-02, -3.96000000e-02, -5.94000000e-02,\n",
       "         -7.92000000e-02, -9.90000000e-02],\n",
       "        [ 1.92000000e-01,  1.53600000e-01,  1.15200000e-01,\n",
       "          7.68000000e-02,  3.84000000e-02,  0.00000000e+00,\n",
       "         -3.84000000e-02, -7.68000000e-02, -1.15200000e-01,\n",
       "         -1.53600000e-01, -1.92000000e-01],\n",
       "        [ 2.73000000e-01,  2.18400000e-01,  1.63800000e-01,\n",
       "          1.09200000e-01,  5.46000000e-02,  0.00000000e+00,\n",
       "         -5.46000000e-02, -1.09200000e-01, -1.63800000e-01,\n",
       "         -2.18400000e-01, -2.73000000e-01],\n",
       "        [ 3.36000000e-01,  2.68800000e-01,  2.01600000e-01,\n",
       "          1.34400000e-01,  6.72000000e-02,  0.00000000e+00,\n",
       "         -6.72000000e-02, -1.34400000e-01, -2.01600000e-01,\n",
       "         -2.68800000e-01, -3.36000000e-01],\n",
       "        [ 3.75000000e-01,  3.00000000e-01,  2.25000000e-01,\n",
       "          1.50000000e-01,  7.50000000e-02,  0.00000000e+00,\n",
       "         -7.50000000e-02, -1.50000000e-01, -2.25000000e-01,\n",
       "         -3.00000000e-01, -3.75000000e-01],\n",
       "        [ 3.84000000e-01,  3.07200000e-01,  2.30400000e-01,\n",
       "          1.53600000e-01,  7.68000000e-02,  0.00000000e+00,\n",
       "         -7.68000000e-02, -1.53600000e-01, -2.30400000e-01,\n",
       "         -3.07200000e-01, -3.84000000e-01],\n",
       "        [ 3.57000000e-01,  2.85600000e-01,  2.14200000e-01,\n",
       "          1.42800000e-01,  7.14000000e-02,  0.00000000e+00,\n",
       "         -7.14000000e-02, -1.42800000e-01, -2.14200000e-01,\n",
       "         -2.85600000e-01, -3.57000000e-01],\n",
       "        [ 2.88000000e-01,  2.30400000e-01,  1.72800000e-01,\n",
       "          1.15200000e-01,  5.76000000e-02, -5.55111512e-17,\n",
       "         -5.76000000e-02, -1.15200000e-01, -1.72800000e-01,\n",
       "         -2.30400000e-01, -2.88000000e-01],\n",
       "        [ 1.71000000e-01,  1.36800000e-01,  1.02600000e-01,\n",
       "          6.84000000e-02,  3.42000000e-02, -2.77555756e-17,\n",
       "         -3.42000000e-02, -6.84000000e-02, -1.02600000e-01,\n",
       "         -1.36800000e-01, -1.71000000e-01],\n",
       "        [ 0.00000000e+00,  0.00000000e+00,  0.00000000e+00,\n",
       "          0.00000000e+00,  0.00000000e+00,  0.00000000e+00,\n",
       "          0.00000000e+00,  0.00000000e+00,  0.00000000e+00,\n",
       "          0.00000000e+00,  0.00000000e+00]]))"
      ]
     },
     "execution_count": 21,
     "metadata": {},
     "output_type": "execute_result"
    }
   ],
   "source": [
    "solution[1], solution[3]"
   ]
  },
  {
   "cell_type": "markdown",
   "metadata": {},
   "source": [
    "Finally, the next function will plot the phase space and the time evolution of $x$ and $n$."
   ]
  },
  {
   "cell_type": "code",
   "execution_count": 36,
   "metadata": {
    "ExecuteTime": {
     "end_time": "2020-02-05T23:42:27.190175Z",
     "start_time": "2020-02-05T23:42:27.163529Z"
    }
   },
   "outputs": [],
   "source": [
    "def make_graphs(model=None, data=None, save=False,\n",
    "                directory=os.path.join('/home', username, 'Desktop/graphs'),\n",
    "                fig_name=''):\n",
    "\n",
    "    plt.close('all')\n",
    "\n",
    "#     some plot settings\n",
    "    plt.rcParams['font.size'] = 12\n",
    "    fig = plt.figure(figsize=[14, 5])\n",
    "    gs = gridspec.GridSpec(nrows=1, ncols=2, wspace=0.2, hspace=0.25)\n",
    "    line_color = ['#f88b25', '#2590f8', '#1ac129']\n",
    "\n",
    "    if data != None:\n",
    "        model = graph_data([data[0][0], data[0][1]],\n",
    "                           theta_val=data[1], t_points=data[2])\n",
    "\n",
    "    solution_label = fr'Model solution starting from ' +\\\n",
    "    fr'$x_0={model[0].y[0][0]}, n_0={model[0].y[1][0]}$'\n",
    "\n",
    "    axq = fig.add_subplot(gs[0, 0])\n",
    "    # axq.quiver plots the phase space\n",
    "    axq.quiver(model[1], model[2], model[3], model[4], alpha=0.35)\n",
    "    # the line below plots the phase space trajectory\n",
    "    axq_solution, = axq.plot(model[0].y[0], model[0].y[1],\n",
    "                             linewidth=3, color=line_color[0],\n",
    "                             label=solution_label)\n",
    "    axq.legend(bbox_to_anchor=(0., 1.02, 1., .102), loc='lower left',\n",
    "               ncol=1, mode=\"expand\", borderaxespad=0., fontsize=12)\n",
    "\n",
    "    axq.set_xlabel(fr\"$x$\", fontsize=15)\n",
    "    axq.set_ylabel(fr\"$n$\", fontsize=15)\n",
    "\n",
    "    # lines below plot the time evolution of the system\n",
    "    ax_curr = fig.add_subplot(gs[0, 1])\n",
    "    ax_curr.plot(model[0].t, model[0].y[0], marker='', markersize=8, mew=2,\n",
    "                 color=line_color[1], linewidth=3, label='x')\n",
    "    ax_curr.plot(model[0].t, model[0].y[1], marker='', markersize=8, mew=2,\n",
    "                 color=line_color[2], linewidth=3, label='n')\n",
    "\n",
    "    ticks = np.linspace(0, 1, 5).round(2)\n",
    "    ax_curr.set_yticks(ticks)\n",
    "    ax_curr.set_ylim(0, 1)\n",
    "    ax_curr.set_xlim(-1., max(model[0].t))\n",
    "    ax_curr.set_ylabel(\"Variables\", fontsize=17)\n",
    "    ax_curr.set_xlabel(\"Time\", fontsize=15)\n",
    "    ax_curr.legend(bbox_to_anchor=(0., 1.02, 1., .102), loc='lower left',\n",
    "                   ncol=2, mode=\"expand\", borderaxespad=0., fontsize=15)\n",
    "\n",
    "    if save:  # for saving the figure in a given directory with a given name\n",
    "        save_obj = os.path.join(directory, fig_name)\n",
    "        plt.savefig(save_obj, dpi=90)"
   ]
  },
  {
   "cell_type": "markdown",
   "metadata": {},
   "source": [
    "If an object returned by the graph_data function is passed with the model argument to make_graphs, then the function simply plots the solution; if, instead, a list or tuple is passed with the data argument, then make_graphs calls graph_data in order to solve the model, then plots it afterwards. Defining the function in this way allows the user to save time: if he/she wants to look at the numbers of the solution of the system (by looking at the output of graph_data) and then plot these numbers as well, he/she must run graph_data to look at the numbers and then only plot them without running the model again inside graph_data; however, if all the user wants is to look at the plots for a given system, then he/she just passes the required values into make_graphs and it will run the model and plot it without outputting the numbers themselves."
   ]
  },
  {
   "cell_type": "code",
   "execution_count": 37,
   "metadata": {
    "ExecuteTime": {
     "end_time": "2020-02-02T19:00:05.259868Z",
     "start_time": "2020-02-02T19:00:04.634379Z"
    }
   },
   "outputs": [
    {
     "data": {
      "image/png": "[encoded data removed]",
      "text/plain": [
       "<Figure size 1008x360 with 2 Axes>"
      ]
     },
     "metadata": {
      "needs_background": "light"
     },
     "output_type": "display_data"
    }
   ],
   "source": [
    "make_graphs(model=solution,\n",
    "            save=False, directory='/home/user/Desktop/',\n",
    "            fig_name='game.png')"
   ]
  }
 ],
 "metadata": {
  "kernelspec": {
   "display_name": "Python 3",
   "language": "python",
   "name": "python3"
  },
  "language_info": {
   "codemirror_mode": {
    "name": "ipython",
    "version": 3
   },
   "file_extension": ".py",
   "mimetype": "text/x-python",
   "name": "python",
   "nbconvert_exporter": "python",
   "pygments_lexer": "ipython3",
   "version": "3.8.2"
  },
  "toc": {
   "base_numbering": 1,
   "nav_menu": {},
   "number_sections": true,
   "sideBar": true,
   "skip_h1_title": false,
   "title_cell": "Table of Contents",
   "title_sidebar": "Contents",
   "toc_cell": true,
   "toc_position": {},
   "toc_section_display": true,
   "toc_window_display": false
  }
 },
 "nbformat": 4,
 "nbformat_minor": 4
}
